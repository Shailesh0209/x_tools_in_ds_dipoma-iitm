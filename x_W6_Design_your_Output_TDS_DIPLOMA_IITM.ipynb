{
  "nbformat": 4,
  "nbformat_minor": 0,
  "metadata": {
    "colab": {
      "name": "x_W6_Design_your_Output-TDS-DIPLOMA-IITM.ipynb",
      "private_outputs": true,
      "provenance": [],
      "authorship_tag": "ABX9TyP4CU89dLXIZX2MyaM0Xw3A",
      "include_colab_link": true
    },
    "kernelspec": {
      "name": "python3",
      "display_name": "Python 3"
    },
    "language_info": {
      "name": "python"
    }
  },
  "cells": [
    {
      "cell_type": "markdown",
      "metadata": {
        "id": "view-in-github",
        "colab_type": "text"
      },
      "source": [
        "<a href=\"https://colab.research.google.com/github/Shailesh0209/x_tools_in_ds_dipoma-iitm/blob/main/x_W6_Design_your_Output_TDS_DIPLOMA_IITM.ipynb\" target=\"_parent\"><img src=\"https://colab.research.google.com/assets/colab-badge.svg\" alt=\"Open In Colab\"/></a>"
      ]
    },
    {
      "cell_type": "code",
      "execution_count": null,
      "metadata": {
        "id": "cBTZvbhG0WvR"
      },
      "outputs": [],
      "source": [
        "print(\"Hi\")"
        "print(\1+2)"
      ]
    },
    {
      "cell_type": "code",
      "source": [
        ""
      ],
      "metadata": {
        "id": "Xf6QF2Bw11ZX"
      },
      "execution_count": null,
      "outputs": []
    }
  ]
}
