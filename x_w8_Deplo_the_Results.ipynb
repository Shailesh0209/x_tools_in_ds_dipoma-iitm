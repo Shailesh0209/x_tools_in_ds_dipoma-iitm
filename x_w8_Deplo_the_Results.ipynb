{
  "nbformat": 4,
  "nbformat_minor": 0,
  "metadata": {
    "colab": {
      "name": "x_w8_Deplo_the_Results.ipynb",
      "private_outputs": true,
      "provenance": [],
      "authorship_tag": "ABX9TyML22VW061SAS2DP90F1xA5",
      "include_colab_link": true
    },
    "kernelspec": {
      "name": "python3",
      "display_name": "Python 3"
    },
    "language_info": {
      "name": "python"
    }
  },
  "cells": [
    {
      "cell_type": "markdown",
      "metadata": {
        "id": "view-in-github",
        "colab_type": "text"
      },
      "source": [
        "<a href=\"https://colab.research.google.com/github/Shailesh0209/x_tools_in_ds_dipoma-iitm/blob/main/x_w8_Deplo_the_Results.ipynb\" target=\"_parent\"><img src=\"https://colab.research.google.com/assets/colab-badge.svg\" alt=\"Open In Colab\"/></a>"
      ]
    },
    {
      "cell_type": "code",
      "execution_count": null,
      "metadata": {
        "id": "XuEbWXMM1k71"
      },
      "outputs": [],
      "source": [
        "ram"
      ]
    }
  ]
}