{
  "nbformat": 4,
  "nbformat_minor": 0,
  "metadata": {
    "colab": {
      "name": "X_W7_Design_your_output.ipynb",
      "private_outputs": true,
      "provenance": [],
      "authorship_tag": "ABX9TyO4kd1QXj+LQG12tKfhF0As",
      "include_colab_link": true
    },
    "kernelspec": {
      "name": "python3",
      "display_name": "Python 3"
    },
    "language_info": {
      "name": "python"
    }
  },
  "cells": [
    {
      "cell_type": "markdown",
      "metadata": {
        "id": "view-in-github",
        "colab_type": "text"
      },
      "source": [
        "<a href=\"https://colab.research.google.com/github/Shailesh0209/x_tools_in_ds_dipoma-iitm/blob/Shailesh0209-patch-1/X_W7_Design_your_output.ipynb\" target=\"_parent\"><img src=\"https://colab.research.google.com/assets/colab-badge.svg\" alt=\"Open In Colab\"/></a>"
      ]
    },
    {
      "cell_type": "markdown",
      "source": [
        "#Design_your_output: Tools for specialized visualizations: network of actors"
      ],
      "metadata": {
        "id": "ezpeNUkpecq1"
      }
    },
    {
      "cell_type": "code",
      "execution_count": null,
      "metadata": {
        "id": "87AngFTw1W03"
      },
      "outputs": [],
      "source": [
        "import numpy as np\n",
        "import pandas as pd"
      ]
    },
    {
      "cell_type": "code",
      "source": [
        "# Download the data\n",
        "!rm *.tsv.gz\n",
        "!wget -q https://datasets.imdbws.com/name.basics.tsv.gz\n",
        "!wget -q https://datasets.imdbws.com/title.principals.tsv\n",
        "!wget -q https://datasets.imdbws.com/title.basics.tsv.gz\n",
        "!wget -q https://datasets.imdbws.com/title.basics.tsv.gz\n",
        "!wget -q https://datasets.imdbws.com/title.akas.tsv.gz\n",
        "!ls -la"
      ],
      "metadata": {
        "id": "aJ_-acMYiZLt"
      },
      "execution_count": null,
      "outputs": []
    }
  ]
}