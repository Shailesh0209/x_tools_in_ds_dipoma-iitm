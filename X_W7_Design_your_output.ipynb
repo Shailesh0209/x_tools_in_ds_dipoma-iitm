{
  "nbformat": 4,
  "nbformat_minor": 0,
  "metadata": {
    "colab": {
      "name": "X_W7_Design_your_output.ipynb",
      "private_outputs": true,
      "provenance": [],
      "authorship_tag": "ABX9TyO34usAudX4T83nw9r6RdrK",
      "include_colab_link": true
    },
    "kernelspec": {
      "name": "python3",
      "display_name": "Python 3"
    },
    "language_info": {
      "name": "python"
    },
    "accelerator": "TPU"
  },
  "cells": [
    {
      "cell_type": "markdown",
      "metadata": {
        "id": "view-in-github",
        "colab_type": "text"
      },
      "source": [
        "<a href=\"https://colab.research.google.com/github/Shailesh0209/x_tools_in_ds_dipoma-iitm/blob/main/X_W7_Design_your_output.ipynb\" target=\"_parent\"><img src=\"https://colab.research.google.com/assets/colab-badge.svg\" alt=\"Open In Colab\"/></a>"
      ]
    },
    {
      "cell_type": "markdown",
      "source": [
        "#Design_your_output: Tools for specialized visualizations: network of actors"
      ],
      "metadata": {
        "id": "ezpeNUkpecq1"
      }
    },
    {
      "cell_type": "code",
      "execution_count": null,
      "metadata": {
        "id": "87AngFTw1W03"
      },
      "outputs": [],
      "source": [
        "import numpy as np\n",
        "import pandas as pd"
      ]
    },
    {
      "cell_type": "code",
      "source": [
        "# Download the data\n",
        "!rm *.tsv.gz\n",
        "!wget -q https://datasets.imdbws.com/name.basics.tsv.gz\n",
        "!wget -q https://datasets.imdbws.com/title.principals.tsv\n",
        "!wget -q https://datasets.imdbws.com/title.basics.tsv.gz\n",
        "!wget -q https://datasets.imdbws.com/title.basics.tsv.gz\n",
        "!wget -q https://datasets.imdbws.com/title.akas.tsv.gz\n",
        "!ls -la"
      ],
      "metadata": {
        "id": "aJ_-acMYiZLt"
      },
      "execution_count": null,
      "outputs": []
    },
    {
      "cell_type": "code",
      "source": [
        "# Load the titles\n",
        "title = pd.read_csv('title.basics.tsv.gz', sep='\\t', low_memory=False).set_index('tconst')[['titleType', 'primaryTitle', 'startYear']]\n",
        "title.head()"
      ],
      "metadata": {
        "id": "PsqJR0WOkLD0"
      },
      "execution_count": null,
      "outputs": []
    },
    {
      "cell_type": "code",
      "source": [
        "# Load the cast of each film\n",
        "cast = pd.read_csv('title.principals.tsv.gz', sep='\\t')[['tconst', 'nconst', 'category']]\n",
        "# ONly consider actors, not directors, composers, etc.Shrinks data to about 40%\n",
        "cast = cast[cast.category.isin({'actor', 'actress'})]\n",
        "cast.head()"
      ],
      "metadata": {
        "id": "5HHekdRTkK_6"
      },
      "execution_count": null,
      "outputs": []
    },
    {
      "cell_type": "code",
      "source": [
        "# Only consider movies, not TV series, etc. Shrinks data to ~5%\n",
        "movies = title[title['titleType'] == 'movie']\n",
        "cast = cast[cast['tcons'].isin(movies.index)]\n",
        "# This is what the network looks like\n",
        "cast.head()"
      ],
      "metadata": {
        "id": "0TAh6VWokK9m"
      },
      "execution_count": null,
      "outputs": []
    },
    {
      "cell_type": "code",
      "source": [
        "# Restrict data to just a single region (e.g. IN, US, etc)\n",
        "# This loads the region for each title\n",
        "region = pd.read_csv('title.akas.tsv.gz', sep='\\t', low_memory=False).set_index('titleId')['region']\n",
        "region.value_counts().head(10)"
      ],
      "metadata": {
        "id": "T62FlRjtkK4n"
      },
      "execution_count": null,
      "outputs": []
    },
    {
      "cell_type": "code",
      "source": [
        "# Load the name data along with birth year\n",
        "name = pd.read_csv('name.basics.tsv.gz', sep='\\t', na_values='\\\\N', dtype={'birthYear': float}).set_index('nconst')[[\n",
        "                            'primaryName', 'birthYear']]"
      ],
      "metadata": {
        "id": "aI2kay7KkK1a"
      },
      "execution_count": null,
      "outputs": []
    },
    {
      "cell_type": "code",
      "source": [
        "name.head()"
      ],
      "metadata": {
        "id": "uWU28bbTkKza"
      },
      "execution_count": null,
      "outputs": []
    },
    {
      "cell_type": "code",
      "source": [
        "from scipy.sparse import csr_matrix"
      ],
      "metadata": {
        "id": "yUbCQz_LkKwf"
      },
      "execution_count": null,
      "outputs": []
    },
    {
      "cell_type": "code",
      "source": [
        "def get_pairs(lang=None, min_acted=25, min_pairings=1):\n",
        "    '''\n",
        "    Returns an adjacency matrix and actor mappping of actor pairs where:\n",
        "    -Each actor has acted in at least min_acted films\n",
        "    -The twoactors have acted together in at least min_pairings films\n",
        "    -And (optionally), belong to a region `lang` (IN, UN, etc)\n",
        "    '''\n",
        "    graph = cast\n",
        "    if lang is not None:\n",
        "        graph = graph[graph['tconst'].isin(region[region == lang].index)]\n",
        "    name_freq = graph['nconst'].value_counts()\n",
        "    top_names = name_freq[name_freq >= min_acted]\n",
        "    top_actors = graph[graph['nconst'].isin(top_names.index)]\n",
        "\n",
        "    p = top_actors.copy()\n",
        "    p['title'] = p['tconst'].astype('category')\n",
        "    p['name'] = p['name'].cat.codes.values\n",
        "    data = np.ones(len(p), dtype='int')\n",
        "\n",
        "    matrix = csr_matrix((data, (row, col)))\n",
        "    square = matrix.T * matrix\n",
        "    square.setdiag(0)\n",
        "    square = square.tocoo()\n",
        "\n",
        "    pairs = pd.DataFrame({\n",
        "        'row': squre.row,\n",
        "        'col': squre.col,\n",
        "        'n': square.data\n",
        "    })\n",
        "    pairs = pairs[pairs.n >= min_pairings].reset_index(drop = True)\n",
        "    return pairs, name.reindex(p['name'].cat.categories)\n",
        "\n",
        "    def lookup(pairs, cat):\n",
        "        pairs = pd.concat([\n",
        "                           pairs,\n",
        "                           cat.iloc[pairs.row].reset_index(drop=True),\n",
        "                           cat.iloc[pairs.col].reset_index(drop=True),\n",
        "        ], axis=1)\n",
        "        pairs = pairs.drop(columns=['row', 'col'])\n",
        "        pairs.columns = ['count', 'name1', 'year1', 'name2', 'year2']\n",
        "        return pairs.sort_values('count', ascending=False)"
      ],
      "metadata": {
        "id": "y2VAZFpZkKrj"
      },
      "execution_count": null,
      "outputs": []
    },
    {
      "cell_type": "code",
      "source": [
        "pairs, cat = get_pairs(lang='IN', min_acted=10, min_pairings=3)"
      ],
      "metadata": {
        "id": "_Kh-EXoHkKnw"
      },
      "execution_count": null,
      "outputs": []
    },
    {
      "cell_type": "code",
      "source": [
        "pairs"
      ],
      "metadata": {
        "id": "a0r1-9jkkKkR"
      },
      "execution_count": null,
      "outputs": []
    },
    {
      "cell_type": "code",
      "source": [
        "cat"
      ],
      "metadata": {
        "id": "vRukRrqqkKf9"
      },
      "execution_count": null,
      "outputs": []
    },
    {
      "cell_type": "code",
      "source": [
        "ForKumu = lookup(pairs, cat)\n",
        "ForKumu"
      ],
      "metadata": {
        "id": "_ZItyuAWkKdg"
      },
      "execution_count": null,
      "outputs": []
    },
    {
      "cell_type": "code",
      "source": [
        "ForKumu = ForKumu[['name1', 'name2', 'count']]\n",
        "ForKumu = ForKumu.rename(columns={'name1': 'From',\n",
        "                                  'name2': 'To',\n",
        "                                  'count': 'Strength'})\n",
        "ForKumu"
      ],
      "metadata": {
        "id": "symDKSerkKOs"
      },
      "execution_count": null,
      "outputs": []
    },
    {
      "cell_type": "code",
      "source": [
        "ForKumu.to_excel(\"pairs.xslx\", index=False)"
      ],
      "metadata": {
        "id": "hhYK_BoqP9mv"
      },
      "execution_count": null,
      "outputs": []
    },
    {
      "cell_type": "markdown",
      "source": [
        "# Modern tools to simplify deep learning models- Cluster the network of actors\n"
      ],
      "metadata": {
        "id": "cNqOJbapR7QH"
      }
    },
    {
      "cell_type": "code",
      "source": [
        "!pip install scikit-network\n",
        "import pandas as pd\n",
        "import numpy as np\n",
        "import sknetwork.clustering\n",
        "import sknetwork.utils\n",
        "from scipy.sparse import csr_matrix"
      ],
      "metadata": {
        "id": "xgpHm1yjSJMK"
      },
      "execution_count": null,
      "outputs": []
    },
    {
      "cell_type": "code",
      "source": [
        "# Download the data \n",
        "!rm -f *.tsv.akas.tsv.gz\n",
        "!wget -q https://datasets.imdbws.com/name.basics.tsv.gz\n",
        "!wget -q https://datasets.imdbws.com/title.principals.tsv.gz\n",
        "!wget -q https://datasets.imdbws.com/title.basics.tsv.gz\n",
        "!wget -q https://datasets.imdbws.com/title.akas.tsv.gz\n",
        "!ls -la"
      ],
      "metadata": {
        "id": "aK0TS4r5SoTB"
      },
      "execution_count": null,
      "outputs": []
    },
    {
      "cell_type": "code",
      "source": [
        "# Load the titles\n",
        "title = pd.read_csv('title.basics.tsv.gz', sep='\\t', low_memory=False).set_index('tconst')[['titleType', 'primaryTitle', 'startYear']]\n",
        "title.head()"
      ],
      "metadata": {
        "id": "ZVd6I74rTsbG"
      },
      "execution_count": null,
      "outputs": []
    },
    {
      "cell_type": "code",
      "source": [
        "# Load the cast of each film\n",
        "cast = pd.read_csv('title.principals.tsv.gz', sep='\\t')[['tconst', 'nconst', 'category']]\n",
        "# Only consider actors, not directors, composers, etc. Shrinks data to about 40%\n",
        "cast = cast[cast.category.isin({'actor', 'actress'})]\n",
        "cast.head()"
      ],
      "metadata": {
        "id": "IIMtnFG1Uja1"
      },
      "execution_count": null,
      "outputs": []
    },
    {
      "cell_type": "code",
      "source": [
        "# Only consider movies, not TV series, etc. Shrinks data to ~5%\n",
        "movies = title[title['titleType'] == 'movie']\n",
        "cast = cast[cast['tconst'].isin(movies.index)]\n",
        "# This is what the network looks like\n",
        "cast.head()"
      ],
      "metadata": {
        "id": "4h-MXXD3VZST"
      },
      "execution_count": null,
      "outputs": []
    },
    {
      "cell_type": "code",
      "source": [
        "# Explore the regions we have data for (e.g. IN, US, etc)\n",
        "region  = pd.read_csv('title.akas.tsv.gz', sep='\\t', low_memory=False).set_index('titleId')['region']\n",
        "region.value_counts().head(10)"
      ],
      "metadata": {
        "id": "vNosMhfeV1_y"
      },
      "execution_count": null,
      "outputs": []
    },
    {
      "cell_type": "code",
      "source": [
        "# Load the name data along with birth year\n",
        "name = pd.read_csv('name.basics.tsv.gz', sep='\\t', na_values='\\\\N', dtype={'birthYear': float}).set_index('nconst')[['primaryName', 'birthYear']]\n",
        "name_freq = cast['nconst'].value_counts()"
      ],
      "metadata": {
        "id": "CsAOkDtVWm5G"
      },
      "execution_count": null,
      "outputs": []
    },
    {
      "cell_type": "code",
      "source": [
        "def get_pairs(lang=None, min_acted=25, min_pairings=4):\n",
        "    '''Returns an adjacency matrix and actor mapping of actor pairs where:\n",
        "    -Each actor has acted in at least min_acted films\n",
        "    -The two actors have acted together in at least min_pairings films\n",
        "    - And (optionally), belong to a region `lang` (IN, UN, etc)\n",
        "    '''\n",
        "    graph = cast\n",
        "    if lang is Not None:\n",
        "        graph = graph[graph['tconst'].isin(regionn[region = lang].index)]\n",
        "    top_names = name_freq[name_freq >= min_acted]\n",
        "    top_actors = graph[graph['nconst'].isin(top_names.index)]\n",
        "\n",
        "    p = top_actors.copy()\n",
        "    p['title'] = p['tcons'].astype('category')\n",
        "    p['name'] = p['nconst'].astype('category')\n",
        "\n",
        "    row = p['title'].cat.codes.values\n",
        "    col = p['name'].cat.codes.values\n",
        "    data = np.ones(len(p), dtype='int')\n",
        "\n",
        "    matrix = csr_matrix((data, (row, col)))\n",
        "    square = csr_matrix((data, (row, col)))\n",
        "    squre.setdiag(0)\n",
        "    squre = squre.tocoo()\n",
        "\n",
        "    pairs = pd.DataFrame({\n",
        "        'row': squre.row,\n",
        "        'col': squre.col,\n",
        "        'n': squre.data\n",
        "    })\n",
        "    pairs = pairs[pairs.n >= min_pairings].reset_index(drop=True)\n",
        "    return pairs, name.reindex(p['name'].cat.categories)\n",
        "\n",
        "def lookup(pairs, cat):\n",
        "    pairs = pd.concat([\n",
        "                       pairs,\n",
        "                       cat.iloc[pairs.row].reset_index(drop=True),\n",
        "                       cat.iloc[pairs.col].reset_index(drop=True),\n",
        "    ], axis=1)\n",
        "    pairs = pairs.drop(columns=['row', 'col'])\n",
        "    pairs.columns = ['count', 'name1', 'year1', 'name2', 'year2']\n",
        "    return pairs.sort_values('count', ascending=False)\n"
      ],
      "metadata": {
        "id": "TVkm-NysY91k"
      },
      "execution_count": null,
      "outputs": []
    },
    {
      "cell_type": "code",
      "source": [
        "pairs_in, cat_in = get_pairs(lang='IN', min_acted=3, min_pairings=1)\n",
        "lookup(pairs_in, cat_in)"
      ],
      "metadata": {
        "id": "S9dd2lq4cTZB"
      },
      "execution_count": null,
      "outputs": []
    },
    {
      "cell_type": "code",
      "source": [
        "pairs_us, cat_us = getpairs(lang='US', min_acted=3, min_pairings=1)\n",
        "lookup(pairs_us, cat_us)"
      ],
      "metadata": {
        "id": "KKJgVzxJcnRC"
      },
      "execution_count": null,
      "outputs": []
    },
    {
      "cell_type": "code",
      "source": [
        "pairs_in"
      ],
      "metadata": {
        "id": "yx8iLHfHc0Ud"
      },
      "execution_count": null,
      "outputs": []
    },
    {
      "cell_type": "code",
      "source": [
        "algo = sknetwork.clustering.Louvain()\n",
        "adjacency = sknetwork.utils.edgelist2adjacency(pairs_in)\n",
        "labels = algo.fit_transform(adjacency)\n",
        "clusters_in = pd.concat([\n",
        "                         cat_in.reset_indx(),\n",
        "                         pd.Series(labels, name='cluster')], axis=1)\n",
        "\n",
        "clusters_in = pd.concat([\n",
        "    cat_in.reset_index(),\n",
        "    pd.Series(labels, name='cluster'),\n",
        "    pd.Series(clusters_in['index'].map(name_freq), name='freq'),\n",
        "], axis=1)\n",
        "clusters_in"
      ],
      "metadata": {
        "id": "AIOcERO5c31F"
      },
      "execution_count": null,
      "outputs": []
    },
    {
      "cell_type": "code",
      "source": [
        "clusters_in[clusters_in['cluster']==0].sort_values('freq', ascending=False).head(20)\n"
      ],
      "metadata": {
        "id": "m5w1kpoEdyrg"
      },
      "execution_count": null,
      "outputs": []
    },
    {
      "cell_type": "code",
      "source": [
        "clusters_in[clusters_in['cluster']==1].sort_values('freq', ascending=False).head(20)"
      ],
      "metadata": {
        "id": "bWCtjBF4eAZk"
      },
      "execution_count": null,
      "outputs": []
    },
    {
      "cell_type": "code",
      "source": [
        "clusters_in[clusters_in['cluster']==2].sort_values('freq', ascending=False).head(20)"
      ],
      "metadata": {
        "id": "fze__oP0eP18"
      },
      "execution_count": null,
      "outputs": []
    },
    {
      "cell_type": "code",
      "source": [
        "clusters_in[clusters_in['cluster']==3].sort_values('freq', ascending=False).head(20)"
      ],
      "metadata": {
        "id": "W_oRUW5HecUh"
      },
      "execution_count": null,
      "outputs": []
    },
    {
      "cell_type": "code",
      "source": [
        "def connectedness(clusters, pairs, cat):\n",
        "    pairs['rowcluster'] = clusters.iloc[pairs.row].cluster.reset_index(drop=True)\n",
        "    pairs['colcluster'] = clusters.iloc[pairs.col]cluster.reset_index(drop=True)\n",
        "\n",
        "    connectedness, coclusters = {}, {}\n",
        "    for index, costars in pairs.groupby('row'):\n",
        "        coclusters[cat.index[index]] = cluterdist = costars.groupby('cocluster')['n'].sum()\n",
        "        selfcluster = costars.rowcluster.iloc[0]\n",
        "        connectedness[cat.index[index]] = {\n",
        "            'primaryName': cat.primaryName.iloc[index],\n",
        "            # Which cluster do they belong to \n",
        "            'cluster': selfcluster,\n",
        "            # No of films they've acted in \n",
        "            'titles':name_freq[cat.index[index]],\n",
        "            # No of pairings they've had with other stars\n",
        "            'pairings': clusterdist.sum(),\n",
        "            # % of films within cluster\n",
        "            'incluster': clusterdist.get(selfcluster, 0) / cluserdist.sum()\n",
        "        }\n",
        "    coclusters = pd.DataFrame(coclusters).T\n",
        "    connectedness = pd.DataFrame(connectedness).T\n",
        "    return conneectedness.sort_values('incluster'), coclusters"
      ],
      "metadata": {
        "id": "d_Enf2W6eoUY"
      },
      "execution_count": null,
      "outputs": []
    },
    {
      "cell_type": "code",
      "source": [
        "connected_in, coclusters_in = connectedness(custers_in, pair_in, cat_in)"
      ],
      "metadata": {
        "id": "qK_V7no2glfi"
      },
      "execution_count": null,
      "outputs": []
    },
    {
      "cell_type": "code",
      "source": [
        "# Who are the big crossover actors in IN?\n",
        "connected_in[connected_in]['titles'] >50].sort_values('incluster').head(20)"
      ],
      "metadata": {
        "id": "ozYXWyfEgs91"
      },
      "execution_count": null,
      "outputs": []
    }
  ]
}