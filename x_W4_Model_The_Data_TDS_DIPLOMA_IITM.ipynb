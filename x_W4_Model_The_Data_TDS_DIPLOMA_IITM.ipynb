{
  "nbformat": 4,
  "nbformat_minor": 0,
  "metadata": {
    "colab": {
      "name": "x_W4_Model_The_Data-TDS-DIPLOMA-IITM.ipynb",
      "private_outputs": true,
      "provenance": [],
      "authorship_tag": "ABX9TyMv4f4vHMl2+0VLXu6oLNfF",
      "include_colab_link": true
    },
    "kernelspec": {
      "name": "python3",
      "display_name": "Python 3"
    },
    "language_info": {
      "name": "python"
    }
  },
  "cells": [
    {
      "cell_type": "markdown",
      "metadata": {
        "id": "view-in-github",
        "colab_type": "text"
      },
      "source": [
        "<a href=\"https://colab.research.google.com/github/Shailesh0209/x_tools_in_ds_dipoma-iitm/blob/main/x_W4_Model_The_Data_TDS_DIPLOMA_IITM.ipynb\" target=\"_parent\"><img src=\"https://colab.research.google.com/assets/colab-badge.svg\" alt=\"Open In Colab\"/></a>"
      ]
    },
    {
      "cell_type": "markdown",
      "source": [
        "# MODEL THE DATA: FORECASTING WITH PYTHON"
      ],
      "metadata": {
        "id": "c8nSmBLB_cZU"
      }
    },
    {
      "cell_type": "code",
      "execution_count": null,
      "metadata": {
        "id": "dvckzfb5kCxl"
      },
      "outputs": [],
      "source": [
        "import pandas as pd\n",
        "import numpy as np\n",
        "import matplotlib.pyplot as plt\n",
        "from sklearn.metrics import mean_absolute_error\n",
        "from pandas.plotting import autocorrelation_plot\n",
        "from statsmodels.tsa.arima_model import ARIMA \n",
        "# arima used for forecasting"
      ]
    },
    {
      "cell_type": "code",
      "source": [
        "data = pd.read_csv('https://drive.google.com/uc?id=1PzAcx0rnsAs96qnAdH9is8JMF9WUHj_W')\n",
        "data.head()"
      ],
      "metadata": {
        "id": "he1hwpqHABeP"
      },
      "execution_count": null,
      "outputs": []
    },
    {
      "cell_type": "code",
      "source": [
        "data['location'].unique()"
      ],
      "metadata": {
        "id": "dJJgH6KzCP14"
      },
      "execution_count": null,
      "outputs": []
    },
    {
      "cell_type": "code",
      "source": [
        "country = \"India\"\n",
        "data = data[data['location']==country]"
      ],
      "metadata": {
        "id": "fVdwxeCRCZym"
      },
      "execution_count": null,
      "outputs": []
    },
    {
      "cell_type": "code",
      "source": [
        "data['date'] = pd.to_datetime(data['date'])\n",
        "data.sort_values('date', ascending=True, inplace=True)\n",
        "data['date'].min(), data['date'].max()"
      ],
      "metadata": {
        "id": "ktwASdcnCm9y"
      },
      "execution_count": null,
      "outputs": []
    },
    {
      "cell_type": "code",
      "source": [
        "plt.xlabel('Date')\n",
        "plt.ylabel('New death')\n",
        "plt.plot(data['date'], data['new_deaths'])\n",
        "plt.show()"
      ],
      "metadata": {
        "id": "iyH6ohOS5rjt"
      },
      "execution_count": null,
      "outputs": []
    },
    {
      "cell_type": "code",
      "source": [
        ""
      ],
      "metadata": {
        "id": "pr7he6bM58tI"
      },
      "execution_count": null,
      "outputs": []
    }
  ]
}